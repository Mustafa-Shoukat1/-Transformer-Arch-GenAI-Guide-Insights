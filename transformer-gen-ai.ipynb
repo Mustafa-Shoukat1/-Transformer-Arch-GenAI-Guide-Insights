{
 "cells": [
  {
   "cell_type": "markdown",
   "id": "455fb839",
   "metadata": {
    "papermill": {
     "duration": 0.003261,
     "end_time": "2024-06-16T02:25:22.642056",
     "exception": false,
     "start_time": "2024-06-16T02:25:22.638795",
     "status": "completed"
    },
    "tags": []
   },
   "source": [
    "<div style=\"border-radius: 20px; border: 2px solid #ffcc00; padding: 20px; background-color: #004d99; text-align: center; box-shadow: 0px 4px 8px rgba(0, 0, 0, 0.3), 0px 8px 16px rgba(0, 0, 0, 0.2);\">\n",
    "    <h1 style=\"color: #ffcc00; text-shadow: 3px 3px 8px rgba(0, 0, 0, 0.5); font-weight: bold; margin-bottom: 15px; font-size: 36px;\">\n",
    "        Transformer Architecture & Generative AI: A Guide and Insights\n",
    "    </h1>\n",
    "    <p style=\"color: #ffffff; font-size: 18px; margin: 20px 0; text-shadow: 1px 1px 2px rgba(0, 0, 0, 0.5);\">\n",
    "        Dive into the world of Transformer Architecture and Generative AI. This Notebook provides a comprehensive exploration of the principles and applications, offering insights into how these models are revolutionizing various fields.\n",
    "    </p>\n",
    "    <p style=\"color: #ffffff; font-size: 16px; margin: 15px 0; text-shadow: 1px 1px 2px rgba(0, 0, 0, 0.5);\">\n",
    "        This Notebook is designed to provide a detailed exploration of the principles and applications of transformer architecture in the realm of generative AI. By understanding the theoretical foundations and practical implementations, you'll gain a deeper appreciation of how these models are transforming various fields of Generative AI.\n",
    "    </p>\n",
    "</div>"
   ]
  },
  {
   "cell_type": "markdown",
   "id": "a4c1cd74",
   "metadata": {
    "papermill": {
     "duration": 0.002603,
     "end_time": "2024-06-16T02:25:22.647713",
     "exception": false,
     "start_time": "2024-06-16T02:25:22.645110",
     "status": "completed"
    },
    "tags": []
   },
   "source": [
    "![Image Alt Text](https://th.bing.com/th/id/OIP.eeJQmn-a63IPJPtRiHhc4AAAAA?rs=1&pid=ImgDetMain)\n"
   ]
  },
  {
   "cell_type": "markdown",
   "id": "1a24c4d9",
   "metadata": {
    "papermill": {
     "duration": 0.002361,
     "end_time": "2024-06-16T02:25:22.652860",
     "exception": false,
     "start_time": "2024-06-16T02:25:22.650499",
     "status": "completed"
    },
    "tags": []
   },
   "source": [
    "<div style=\"border-radius: 20px; border: 2px solid #336699; padding: 20px; background-color: #e0f7fa; text-align: center; box-shadow: 0px 4px 8px rgba(0, 0, 0, 0.4), 0px 6px 20px rgba(0, 0, 0, 0.19); transform: perspective(1000px) rotateX(5deg) rotateY(-5deg); transition: transform 0.5s ease-in-out;\">\n",
    "    <h1 style=\"color: #003366; text-shadow: 2px 2px 4px rgba(0, 0, 0, 0.4); font-weight: bold; margin-bottom: 10px; font-size: 32px;\">\n",
    "        Welcome!\n",
    "    </h1>\n",
    "    <p style=\"color: #003366; font-size: 18px; margin: 15px 0;\">\n",
    "        Asalam alaikum warahmatullah wabarakatu. I'm Mustafa Shoukat, a dedicated learner in the field of data science, committed to honing my skills through exploration and experimentation.\n",
    "    </p>\n",
    "    <p style=\"color: #006699; font-size: 16px; font-style: italic;\">\n",
    "        \"Community is the heart of growth and learning. Together, we can achieve more than we ever could alone.\"\n",
    "    </p>\n",
    "    <h2 style=\"color: #003366; margin-top: 20px; font-size: 28px;\">Contact Information</h2>\n",
    "    <table style=\"width: 100%; margin-top: 20px; border-collapse: collapse;\">\n",
    "        <tr>\n",
    "            <th style=\"color: #003366; font-size: 18px; padding: 10px; border-bottom: 2px solid #336699;\">Name</th>\n",
    "            <th style=\"color: #003366; font-size: 18px; padding: 10px; border-bottom: 2px solid #336699;\">Email</th>\n",
    "            <th style=\"color: #003366; font-size: 18px; padding: 10px; border-bottom: 2px solid #336699;\">LinkedIn</th>\n",
    "            <th style=\"color: #003366; font-size: 18px; padding: 10px; border-bottom: 2px solid #336699;\">GitHub</th>\n",
    "            <th style=\"color: #003366; font-size: 18px; padding: 10px; border-bottom: 2px solid #336699;\">Kaggle</th>\n",
    "        </tr>\n",
    "        <tr>\n",
    "            <td style=\"font-size: 16px; padding: 10px;\">Mustafa Shoukat</td>\n",
    "            <td style=\"font-size: 16px; padding: 10px;\">mustafashoukat.ai@gmail.com</td>\n",
    "            <td style=\"font-size: 16px; padding: 10px;\">\n",
    "                <a href=\"https://www.linkedin.com/in/mustafashoukat/\" target=\"_blank\">\n",
    "                    <img src=\"https://img.shields.io/badge/LinkedIn-0e76a8.svg?style=for-the-badge&logo=LinkedIn&logoColor=white\" alt=\"LinkedIn Badge\" style=\"border-radius: 5px;\">\n",
    "                </a>\n",
    "            </td>\n",
    "            <td style=\"font-size: 16px; padding: 10px;\">\n",
    "                <a href=\"https://github.com/Mustafa-Shoukat1\" target=\"_blank\">\n",
    "                    <img src=\"https://img.shields.io/badge/GitHub-171515.svg?style=for-the-badge&logo=GitHub&logoColor=white\" alt=\"GitHub Badge\" style=\"border-radius: 5px;\">\n",
    "                </a>\n",
    "            </td>\n",
    "            <td style=\"font-size: 16px; padding: 10px;\">\n",
    "                <a href=\"https://www.kaggle.com/mustafashoukat\" target=\"_blank\">\n",
    "                    <img src=\"https://img.shields.io/badge/Kaggle-20beff.svg?style=for-the-badge&logo=Kaggle&logoColor=white\" alt=\"Kaggle Badge\" style=\"border-radius: 5px;\">\n",
    "                </a>\n",
    "            </td>\n",
    "        </tr>\n",
    "    </table>\n",
    "    <h2 style=\"color: #003366; margin-top: 20px; font-size: 28px;\">GITHUB Notebook Link : </h2>\n",
    "    <p style=\"color: #003366; font-size: 18px; margin: 15px 0;\">\n",
    "        Due to some restrictions, I'm unable to upload this notebook on Kaggle. However,you can view the detailed version on GitHub. \n",
    "        <a href=\"https://github.com/Mustafa-Shoukat1/-Transformer-Arch-GenAI-Guide-Insights/blob/main/transformer-arch-genai-guide-insights.ipynb\" target=\"_blank\" style=\"color: #0073e6; text-decoration: none; font-weight: bold;\">Click here for Notebook</a>\n",
    "    </p>\n",
    "</div>\n",
    "\n",
    "\n",
    "<div style=\"border-radius: 20px; border: 2px solid #336699; padding: 20px; background-color: #e0f7fa; text-align: center; box-shadow: 0px 4px 8px rgba(0, 0, 0, 0.4), 0px 6px 20px rgba(0, 0, 0, 0.19); transform: perspective(1000px) rotateX(5deg) rotateY(-5deg); transition: transform 0.5s ease-in-out;\">\n",
    "    <h1 style=\"color: #003366; text-shadow: 2px 2px 4px rgba(0, 0, 0, 0.4); font-weight: bold; margin-bottom: 10px; font-size: 32px;\">\n",
    "        Thank You!\n",
    "    </h1>\n",
    "    <p style=\"color: #003366; font-size: 18px; margin: 15px 0;\">\n",
    "        Thank you so much for joining me on this journey through the world of Generative AI! Your support and enthusiasm have been incredibly motivating. 🌟\n",
    "    </p>\n",
    "    <blockquote style=\"border-left: 4px solid #336699; padding-left: 10px; color: #003366; font-size: 18px; margin: 20px 0; background-color: #f0f8ff; padding: 10px;\">\n",
    "        As I delve deeper into the realm of <strong>Generative AI</strong>, I am grateful for your continued encouragement and guidance. Together, we are pushing the boundaries of what's possible in data science and beyond. 🚀💡\n",
    "    </blockquote>\n",
    "    <blockquote style=\"border-left: 4px solid #336699; padding-left: 10px; color: #003366; font-size: 18px; margin: 20px 0; background-color: #f0f8ff; padding: 10px;\">\n",
    "        If you found this exploration helpful or insightful, please consider leaving an upvote. Your support fuels my passion to innovate and explore new frontiers in AI. Let's continue making a difference and shaping the future of <strong>Generative AI</strong> together! 🌌✨\n",
    "    </blockquote>\n",
    "    <h2 style=\"color: #00336"
   ]
  },
  {
   "cell_type": "markdown",
   "id": "877f3cd5",
   "metadata": {
    "papermill": {
     "duration": 0.002214,
     "end_time": "2024-06-16T02:25:22.657617",
     "exception": false,
     "start_time": "2024-06-16T02:25:22.655403",
     "status": "completed"
    },
    "tags": []
   },
   "source": [
    "<div style=\"background-color: #f0f8ff; border: 2px solid #d1e7dd; border-radius: 10px; padding: 20px; font-family: 'Arial', sans-serif; color: #333; max-width: 600px; margin: auto; box-shadow: 0 4px 8px rgba(0, 0, 0, 0.1);\">\n",
    "  <p style=\"font-size: 18px; text-align: center;\">\n",
    "    🌟 <strong>Your constructive feedback is greatly valued.</strong> 🌟\n",
    "  </p>\n",
    "  <p style=\"font-size: 16px; text-align: center;\">\n",
    "    💡 It significantly contributes to the betterment of my work. 💡\n",
    "  </p>\n",
    "</div>\n"
   ]
  },
  {
   "cell_type": "code",
   "execution_count": null,
   "id": "ffba2e82",
   "metadata": {
    "papermill": {
     "duration": 0.002265,
     "end_time": "2024-06-16T02:25:22.662505",
     "exception": false,
     "start_time": "2024-06-16T02:25:22.660240",
     "status": "completed"
    },
    "tags": []
   },
   "outputs": [],
   "source": []
  }
 ],
 "metadata": {
  "colab": {
   "provenance": []
  },
  "kaggle": {
   "accelerator": "none",
   "dataSources": [],
   "dockerImageVersionId": 30732,
   "isGpuEnabled": false,
   "isInternetEnabled": true,
   "language": "python",
   "sourceType": "notebook"
  },
  "kernelspec": {
   "display_name": "Python 3",
   "language": "python",
   "name": "python3"
  },
  "language_info": {
   "codemirror_mode": {
    "name": "ipython",
    "version": 3
   },
   "file_extension": ".py",
   "mimetype": "text/x-python",
   "name": "python",
   "nbconvert_exporter": "python",
   "pygments_lexer": "ipython3",
   "version": "3.10.13"
  },
  "papermill": {
   "default_parameters": {},
   "duration": 3.991147,
   "end_time": "2024-06-16T02:25:23.086121",
   "environment_variables": {},
   "exception": null,
   "input_path": "__notebook__.ipynb",
   "output_path": "__notebook__.ipynb",
   "parameters": {},
   "start_time": "2024-06-16T02:25:19.094974",
   "version": "2.5.0"
  }
 },
 "nbformat": 4,
 "nbformat_minor": 5
}
